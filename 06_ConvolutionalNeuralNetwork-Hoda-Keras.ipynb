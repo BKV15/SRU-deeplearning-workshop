{
  "cells": [
    {
      "cell_type": "markdown",
      "metadata": {
        "id": "2fAE870lHkgk"
      },
      "source": [
        "# An Introduction to Convolutionl Neural Networks - CNN"
      ]
    },
    {
      "cell_type": "markdown",
      "source": [
        "## `Downloading requirement`"
      ],
      "metadata": {
        "id": "CpJVKNSdICZl"
      }
    },
    {
      "cell_type": "code",
      "execution_count": null,
      "metadata": {
        "id": "IPoupJiVHkgz"
      },
      "outputs": [],
      "source": [
        "!wget https://raw.githubusercontent.com/Alireza-Akhavan/SRU-deeplearning-workshop/master/dataset.py\n",
        "!mkdir dataset\n",
        "!wget https://github.com/Alireza-Akhavan/SRU-deeplearning-workshop/raw/master/dataset/Data_hoda_full.mat -P dataset"
      ]
    },
    {
      "cell_type": "markdown",
      "source": [
        "## `Importing Libraries`"
      ],
      "metadata": {
        "id": "EukfIOftIMWe"
      }
    },
    {
      "cell_type": "code",
      "source": [
        "from tensorflow import keras\n",
        "from keras import layers\n",
        "from keras.models import Sequential\n",
        "from keras.layers import Dense, Dropout, Activation , Conv2D , MaxPool2D , Flatten\n",
        "import numpy as np\n",
        "from dataset import load_hoda\n",
        "import matplotlib.pyplot as plt"
      ],
      "metadata": {
        "id": "Pe5to6LJIPqP"
      },
      "execution_count": 2,
      "outputs": []
    },
    {
      "cell_type": "markdown",
      "source": [
        "## `Loading and processing Hoda dataset`"
      ],
      "metadata": {
        "id": "TMyxfQjfInDX"
      }
    },
    {
      "cell_type": "code",
      "source": [
        "x_train_original, y_train_original, x_test_original, y_test_original = load_hoda(training_sample_size=4000 , test_sample_size=1000 , size=28)"
      ],
      "metadata": {
        "id": "ZyK2CSUVIqUn"
      },
      "execution_count": 25,
      "outputs": []
    },
    {
      "cell_type": "code",
      "source": [
        "x_train = np.array(x_train_original)\n",
        "x_test = np.array(x_test_original)"
      ],
      "metadata": {
        "id": "AmqNQnUhJLU3"
      },
      "execution_count": 26,
      "outputs": []
    },
    {
      "cell_type": "code",
      "source": [
        "x_train = x_train / 255\n",
        "x_test = x_test / 255"
      ],
      "metadata": {
        "id": "uiIlgRspJ25H"
      },
      "execution_count": 27,
      "outputs": []
    },
    {
      "cell_type": "code",
      "source": [
        "x_train = x_train.reshape(-1 , 28 , 28)\n",
        "x_test = x_test.reshape(-1 , 28 , 28)"
      ],
      "metadata": {
        "id": "dZ9VXYW-LaLP"
      },
      "execution_count": 28,
      "outputs": []
    },
    {
      "cell_type": "code",
      "source": [
        "y_train = keras.utils.to_categorical(y_train_original , num_classes=10)\n",
        "y_test = keras.utils.to_categorical(y_test_original , num_classes=10)"
      ],
      "metadata": {
        "id": "xaUAltrLLHWw"
      },
      "execution_count": 29,
      "outputs": []
    },
    {
      "cell_type": "code",
      "source": [
        "print(f'x_train shape : {x_train.shape}')\n",
        "print(f'x_test shape : {x_test.shape}')\n",
        "print(f'y_train shape : {y_train.shape}')\n",
        "print(f'y_test shape : {y_test.shape}')"
      ],
      "metadata": {
        "id": "TRT2dakcLZa3",
        "outputId": "c6ebdaea-c290-40c5-9bf9-9b4779cfc1dc",
        "colab": {
          "base_uri": "https://localhost:8080/"
        }
      },
      "execution_count": 30,
      "outputs": [
        {
          "output_type": "stream",
          "name": "stdout",
          "text": [
            "x_train shape : (4000, 28, 28)\n",
            "x_test shape : (1000, 28, 28)\n",
            "y_train shape : (4000, 10)\n",
            "y_test shape : (1000, 10)\n"
          ]
        }
      ]
    },
    {
      "cell_type": "code",
      "source": [
        "plt.imshow(x_train[1236] , cmap='gray')"
      ],
      "metadata": {
        "id": "1vCickbZLywA",
        "outputId": "93d24e48-7f85-4b31-d33f-7e31e8aa21c6",
        "colab": {
          "base_uri": "https://localhost:8080/",
          "height": 282
        }
      },
      "execution_count": 34,
      "outputs": [
        {
          "output_type": "execute_result",
          "data": {
            "text/plain": [
              "<matplotlib.image.AxesImage at 0x7f154cc5dcd0>"
            ]
          },
          "metadata": {},
          "execution_count": 34
        },
        {
          "output_type": "display_data",
          "data": {
            "image/png": "[encoded data removed]",
            "text/plain": [
              "<Figure size 432x288 with 1 Axes>"
            ]
          },
          "metadata": {
            "needs_background": "light"
          }
        }
      ]
    },
    {
      "cell_type": "markdown",
      "source": [
        "## ` Creating the validation data`"
      ],
      "metadata": {
        "id": "QcGki5kFMftA"
      }
    },
    {
      "cell_type": "code",
      "source": [
        "x_val = x_test[:200]\n",
        "x_test = x_test[200:]\n",
        "y_val = y_test[:200]\n",
        "y_test = y_test[200:]"
      ],
      "metadata": {
        "id": "6A_DNjFRMjI5"
      },
      "execution_count": 35,
      "outputs": []
    },
    {
      "cell_type": "markdown",
      "source": [
        "## ` Creating and Compiling the mode`"
      ],
      "metadata": {
        "id": "vhxsp6-oMw6A"
      }
    },
    {
      "cell_type": "code",
      "source": [
        "model = Sequential()\n",
        "model.add(Conv2D(32 , (3,3) , activation='relu' , input_shape=(28,28,1)))\n",
        "model.add(MaxPool2D((2,2)))\n",
        "model.add(Conv2D(64 , (3,3) , activation='relu'))\n",
        "model.add(MaxPool2D((2,2)))\n",
        "model.add(Conv2D(64 , (3,3) , activation='relu'))\n",
        "model.add(Flatten())\n",
        "model.add(Dense(64 , activation='relu'))\n",
        "model.add(Dropout(0.5))\n",
        "model.add(Dense(10 , activation='softmax'))"
      ],
      "metadata": {
        "id": "dOOOmsARM1H4"
      },
      "execution_count": 38,
      "outputs": []
    },
    {
      "cell_type": "code",
      "source": [
        "model.compile(optimizer='adam' , loss='categorical_crossentropy' , metrics=['accuracy'])"
      ],
      "metadata": {
        "id": "3-x3snPlOAy6"
      },
      "execution_count": 39,
      "outputs": []
    },
    {
      "cell_type": "code",
      "source": [
        "model.summary()"
      ],
      "metadata": {
        "id": "e2MLe_bYOika",
        "outputId": "5b50c342-5bab-48d1-869f-2ed7fab4c5d5",
        "colab": {
          "base_uri": "https://localhost:8080/"
        }
      },
      "execution_count": 40,
      "outputs": [
        {
          "output_type": "stream",
          "name": "stdout",
          "text": [
            "Model: \"sequential_1\"\n",
            "_________________________________________________________________\n",
            " Layer (type)                Output Shape              Param #   \n",
            "=================================================================\n",
            " conv2d_1 (Conv2D)           (None, 26, 26, 32)        320       \n",
            "                                                                 \n",
            " max_pooling2d (MaxPooling2D  (None, 13, 13, 32)       0         \n",
            " )                                                               \n",
            "                                                                 \n",
            " conv2d_2 (Conv2D)           (None, 11, 11, 64)        18496     \n",
            "                                                                 \n",
            " max_pooling2d_1 (MaxPooling  (None, 5, 5, 64)         0         \n",
            " 2D)                                                             \n",
            "                                                                 \n",
            " conv2d_3 (Conv2D)           (None, 3, 3, 64)          36928     \n",
            "                                                                 \n",
            " flatten (Flatten)           (None, 576)               0         \n",
            "                                                                 \n",
            " dense (Dense)               (None, 64)                36928     \n",
            "                                                                 \n",
            " dropout (Dropout)           (None, 64)                0         \n",
            "                                                                 \n",
            " dense_1 (Dense)             (None, 10)                650       \n",
            "                                                                 \n",
            "=================================================================\n",
            "Total params: 93,322\n",
            "Trainable params: 93,322\n",
            "Non-trainable params: 0\n",
            "_________________________________________________________________\n"
          ]
        }
      ]
    },
    {
      "cell_type": "markdown",
      "source": [
        "## ` Training the model`"
      ],
      "metadata": {
        "id": "jNjDVgaROQH5"
      }
    },
    {
      "cell_type": "code",
      "source": [
        "history = model.fit(x_train , y_train , batch_size=256 , epochs=50 , validation_data=(x_val , y_val))"
      ],
      "metadata": {
        "id": "GOKzXQSvOPl5",
        "outputId": "cfbc8460-bbc1-418c-a1e5-92c36a416730",
        "colab": {
          "base_uri": "https://localhost:8080/"
        }
      },
      "execution_count": 41,
      "outputs": [
        {
          "output_type": "stream",
          "name": "stdout",
          "text": [
            "Epoch 1/50\n",
            "16/16 [==============================] - 4s 211ms/step - loss: 1.9041 - accuracy: 0.3665 - val_loss: 1.1520 - val_accuracy: 0.7400\n",
            "Epoch 2/50\n",
            "16/16 [==============================] - 3s 196ms/step - loss: 0.9991 - accuracy: 0.6625 - val_loss: 0.5071 - val_accuracy: 0.8300\n",
            "Epoch 3/50\n",
            "16/16 [==============================] - 3s 192ms/step - loss: 0.6300 - accuracy: 0.7840 - val_loss: 0.3696 - val_accuracy: 0.8750\n",
            "Epoch 4/50\n",
            "16/16 [==============================] - 3s 200ms/step - loss: 0.5014 - accuracy: 0.8285 - val_loss: 0.2776 - val_accuracy: 0.9050\n",
            "Epoch 5/50\n",
            "16/16 [==============================] - 3s 198ms/step - loss: 0.4076 - accuracy: 0.8633 - val_loss: 0.2152 - val_accuracy: 0.9250\n",
            "Epoch 6/50\n",
            "16/16 [==============================] - 3s 201ms/step - loss: 0.3313 - accuracy: 0.8898 - val_loss: 0.1707 - val_accuracy: 0.9450\n",
            "Epoch 7/50\n",
            "16/16 [==============================] - 3s 202ms/step - loss: 0.2863 - accuracy: 0.9013 - val_loss: 0.1501 - val_accuracy: 0.9350\n",
            "Epoch 8/50\n",
            "16/16 [==============================] - 3s 204ms/step - loss: 0.2393 - accuracy: 0.9252 - val_loss: 0.1513 - val_accuracy: 0.9500\n",
            "Epoch 9/50\n",
            "16/16 [==============================] - 3s 190ms/step - loss: 0.2166 - accuracy: 0.9277 - val_loss: 0.1194 - val_accuracy: 0.9750\n",
            "Epoch 10/50\n",
            "16/16 [==============================] - 3s 200ms/step - loss: 0.1855 - accuracy: 0.9433 - val_loss: 0.1202 - val_accuracy: 0.9600\n",
            "Epoch 11/50\n",
            "16/16 [==============================] - 3s 191ms/step - loss: 0.1801 - accuracy: 0.9370 - val_loss: 0.1343 - val_accuracy: 0.9600\n",
            "Epoch 12/50\n",
            "16/16 [==============================] - 3s 200ms/step - loss: 0.1570 - accuracy: 0.9482 - val_loss: 0.1352 - val_accuracy: 0.9550\n",
            "Epoch 13/50\n",
            "16/16 [==============================] - 3s 197ms/step - loss: 0.1460 - accuracy: 0.9510 - val_loss: 0.1249 - val_accuracy: 0.9600\n",
            "Epoch 14/50\n",
            "16/16 [==============================] - 3s 195ms/step - loss: 0.1468 - accuracy: 0.9500 - val_loss: 0.0760 - val_accuracy: 0.9700\n",
            "Epoch 15/50\n",
            "16/16 [==============================] - 3s 209ms/step - loss: 0.1310 - accuracy: 0.9580 - val_loss: 0.0951 - val_accuracy: 0.9700\n",
            "Epoch 16/50\n",
            "16/16 [==============================] - 3s 204ms/step - loss: 0.1159 - accuracy: 0.9668 - val_loss: 0.1025 - val_accuracy: 0.9650\n",
            "Epoch 17/50\n",
            "16/16 [==============================] - 3s 207ms/step - loss: 0.1168 - accuracy: 0.9645 - val_loss: 0.0838 - val_accuracy: 0.9700\n",
            "Epoch 18/50\n",
            "16/16 [==============================] - 3s 190ms/step - loss: 0.1014 - accuracy: 0.9682 - val_loss: 0.0869 - val_accuracy: 0.9700\n",
            "Epoch 19/50\n",
            "16/16 [==============================] - 3s 199ms/step - loss: 0.0988 - accuracy: 0.9682 - val_loss: 0.0682 - val_accuracy: 0.9800\n",
            "Epoch 20/50\n",
            "16/16 [==============================] - 3s 203ms/step - loss: 0.0977 - accuracy: 0.9682 - val_loss: 0.0863 - val_accuracy: 0.9650\n",
            "Epoch 21/50\n",
            "16/16 [==============================] - 3s 208ms/step - loss: 0.0853 - accuracy: 0.9697 - val_loss: 0.0550 - val_accuracy: 0.9800\n",
            "Epoch 22/50\n",
            "16/16 [==============================] - 3s 196ms/step - loss: 0.0864 - accuracy: 0.9707 - val_loss: 0.0490 - val_accuracy: 0.9850\n",
            "Epoch 23/50\n",
            "16/16 [==============================] - 3s 192ms/step - loss: 0.0806 - accuracy: 0.9732 - val_loss: 0.0980 - val_accuracy: 0.9750\n",
            "Epoch 24/50\n",
            "16/16 [==============================] - 3s 193ms/step - loss: 0.0811 - accuracy: 0.9765 - val_loss: 0.0798 - val_accuracy: 0.9750\n",
            "Epoch 25/50\n",
            "16/16 [==============================] - 3s 192ms/step - loss: 0.0760 - accuracy: 0.9768 - val_loss: 0.0810 - val_accuracy: 0.9750\n",
            "Epoch 26/50\n",
            "16/16 [==============================] - 3s 192ms/step - loss: 0.0745 - accuracy: 0.9743 - val_loss: 0.0941 - val_accuracy: 0.9750\n",
            "Epoch 27/50\n",
            "16/16 [==============================] - 3s 199ms/step - loss: 0.0724 - accuracy: 0.9772 - val_loss: 0.0516 - val_accuracy: 0.9900\n",
            "Epoch 28/50\n",
            "16/16 [==============================] - 3s 193ms/step - loss: 0.0652 - accuracy: 0.9797 - val_loss: 0.0652 - val_accuracy: 0.9900\n",
            "Epoch 29/50\n",
            "16/16 [==============================] - 3s 193ms/step - loss: 0.0674 - accuracy: 0.9778 - val_loss: 0.0876 - val_accuracy: 0.9750\n",
            "Epoch 30/50\n",
            "16/16 [==============================] - 3s 192ms/step - loss: 0.0613 - accuracy: 0.9772 - val_loss: 0.0712 - val_accuracy: 0.9800\n",
            "Epoch 31/50\n",
            "16/16 [==============================] - 3s 191ms/step - loss: 0.0594 - accuracy: 0.9790 - val_loss: 0.1038 - val_accuracy: 0.9750\n",
            "Epoch 32/50\n",
            "16/16 [==============================] - 3s 195ms/step - loss: 0.0622 - accuracy: 0.9797 - val_loss: 0.0916 - val_accuracy: 0.9800\n",
            "Epoch 33/50\n",
            "16/16 [==============================] - 3s 192ms/step - loss: 0.0572 - accuracy: 0.9795 - val_loss: 0.0620 - val_accuracy: 0.9850\n",
            "Epoch 34/50\n",
            "16/16 [==============================] - 3s 193ms/step - loss: 0.0541 - accuracy: 0.9815 - val_loss: 0.0636 - val_accuracy: 0.9900\n",
            "Epoch 35/50\n",
            "16/16 [==============================] - 3s 193ms/step - loss: 0.0517 - accuracy: 0.9822 - val_loss: 0.0689 - val_accuracy: 0.9900\n",
            "Epoch 36/50\n",
            "16/16 [==============================] - 3s 195ms/step - loss: 0.0491 - accuracy: 0.9835 - val_loss: 0.0995 - val_accuracy: 0.9750\n",
            "Epoch 37/50\n",
            "16/16 [==============================] - 3s 190ms/step - loss: 0.0476 - accuracy: 0.9827 - val_loss: 0.0686 - val_accuracy: 0.9900\n",
            "Epoch 38/50\n",
            "16/16 [==============================] - 3s 191ms/step - loss: 0.0363 - accuracy: 0.9883 - val_loss: 0.0455 - val_accuracy: 0.9900\n",
            "Epoch 39/50\n",
            "16/16 [==============================] - 3s 193ms/step - loss: 0.0392 - accuracy: 0.9870 - val_loss: 0.0364 - val_accuracy: 0.9900\n",
            "Epoch 40/50\n",
            "16/16 [==============================] - 3s 209ms/step - loss: 0.0474 - accuracy: 0.9827 - val_loss: 0.0515 - val_accuracy: 0.9900\n",
            "Epoch 41/50\n",
            "16/16 [==============================] - 3s 196ms/step - loss: 0.0385 - accuracy: 0.9870 - val_loss: 0.0699 - val_accuracy: 0.9850\n",
            "Epoch 42/50\n",
            "16/16 [==============================] - 3s 193ms/step - loss: 0.0342 - accuracy: 0.9877 - val_loss: 0.0813 - val_accuracy: 0.9850\n",
            "Epoch 43/50\n",
            "16/16 [==============================] - 3s 190ms/step - loss: 0.0324 - accuracy: 0.9887 - val_loss: 0.0608 - val_accuracy: 0.9900\n",
            "Epoch 44/50\n",
            "16/16 [==============================] - 3s 194ms/step - loss: 0.0364 - accuracy: 0.9880 - val_loss: 0.0901 - val_accuracy: 0.9800\n",
            "Epoch 45/50\n",
            "16/16 [==============================] - 3s 190ms/step - loss: 0.0326 - accuracy: 0.9887 - val_loss: 0.0486 - val_accuracy: 0.9900\n",
            "Epoch 46/50\n",
            "16/16 [==============================] - 3s 190ms/step - loss: 0.0352 - accuracy: 0.9883 - val_loss: 0.0457 - val_accuracy: 0.9850\n",
            "Epoch 47/50\n",
            "16/16 [==============================] - 3s 199ms/step - loss: 0.0360 - accuracy: 0.9883 - val_loss: 0.0463 - val_accuracy: 0.9900\n",
            "Epoch 48/50\n",
            "16/16 [==============================] - 3s 192ms/step - loss: 0.0379 - accuracy: 0.9855 - val_loss: 0.0682 - val_accuracy: 0.9900\n",
            "Epoch 49/50\n",
            "16/16 [==============================] - 3s 191ms/step - loss: 0.0345 - accuracy: 0.9872 - val_loss: 0.0543 - val_accuracy: 0.9900\n",
            "Epoch 50/50\n",
            "16/16 [==============================] - 3s 199ms/step - loss: 0.0360 - accuracy: 0.9877 - val_loss: 0.0615 - val_accuracy: 0.9900\n"
          ]
        }
      ]
    },
    {
      "cell_type": "markdown",
      "source": [
        "## `Visualization and Evaluation`"
      ],
      "metadata": {
        "id": "x5RKOebqPoeq"
      }
    },
    {
      "cell_type": "code",
      "source": [
        "acc = history.history['accuracy']\n",
        "val_acc = history.history['val_accuracy']\n",
        "\n",
        "loss = history.history['loss']\n",
        "val_loss = history.history['val_loss']\n",
        "\n",
        "plt.figure(1)\n",
        "plt.plot(acc , label='Train acc')\n",
        "plt.plot(val_acc , label='Validation acc')\n",
        "plt.xlabel('Number of Epochs')\n",
        "plt.ylabel('Accuracy')\n",
        "plt.legend()\n",
        "plt.show()\n",
        "\n",
        "plt.figure(2)\n",
        "plt.plot(loss , label='Train loss')\n",
        "plt.plot(val_loss , label='Validation loss')\n",
        "plt.xlabel('Number of Epochs')\n",
        "plt.ylabel('Loss')\n",
        "plt.legend()\n",
        "plt.show()"
      ],
      "metadata": {
        "id": "imAvvT-BPr7c",
        "outputId": "9280685d-9a79-4ae3-caf4-d811a0fe78e8",
        "colab": {
          "base_uri": "https://localhost:8080/",
          "height": 541
        }
      },
      "execution_count": 42,
      "outputs": [
        {
          "output_type": "display_data",
          "data": {
            "image/png": "[encoded data removed]",
            "text/plain": [
              "<Figure size 432x288 with 1 Axes>"
            ]
          },
          "metadata": {
            "needs_background": "light"
          }
        },
        {
          "output_type": "display_data",
          "data": {
            "image/png": "[encoded data removed]",
            "text/plain": [
              "<Figure size 432x288 with 1 Axes>"
            ]
          },
          "metadata": {
            "needs_background": "light"
          }
        }
      ]
    },
    {
      "cell_type": "code",
      "source": [
        "loss , acc = model.evaluate(x_test , y_test)\n",
        "print(f'Test loss : {loss:.2f} , Test accuracy : {acc:.2f}')"
      ],
      "metadata": {
        "id": "HirIXshIQiwT",
        "outputId": "7efaee77-866f-4c8a-dec7-8296f2015488",
        "colab": {
          "base_uri": "https://localhost:8080/"
        }
      },
      "execution_count": 43,
      "outputs": [
        {
          "output_type": "stream",
          "name": "stdout",
          "text": [
            "25/25 [==============================] - 0s 12ms/step - loss: 0.0603 - accuracy: 0.9825\n",
            "Test loss : 0.06 , Test accuracy : 0.98\n"
          ]
        }
      ]
    },
    {
      "cell_type": "markdown",
      "source": [
        "## `Predicting test samples`"
      ],
      "metadata": {
        "id": "XYzkcTfwQ5HL"
      }
    },
    {
      "cell_type": "code",
      "execution_count": 49,
      "metadata": {
        "id": "Xoq30mtMHkg5",
        "outputId": "47ad21ff-46fc-4ab9-9694-62bff58879bf",
        "colab": {
          "base_uri": "https://localhost:8080/"
        }
      },
      "outputs": [
        {
          "output_type": "stream",
          "name": "stdout",
          "text": [
            "Predicted probablites for sample number 326 is :\n",
            " [[1.2082289e-08 4.1057535e-09 9.9804902e-01 1.9505353e-03 3.2193469e-07\n",
            "  1.5624284e-12 6.8130404e-08 2.3929710e-08 8.1934085e-13 8.7244708e-12]]\n",
            "Sample number 326 is : 2 and model predicted : 2\n"
          ]
        }
      ],
      "source": [
        "# Sample range 0-799\n",
        "sample = 326\n",
        "\n",
        "predicted_proba = model.predict(np.array([x_test[sample]]))\n",
        "predicted = np.argmax(predicted_proba)\n",
        "actual = np.argmax(y_test[sample])\n",
        "\n",
        "print(f'Predicted probablites for sample number {sample} is :\\n {predicted_proba}')\n",
        "print(f'Sample number {sample} is : {actual} and model predicted : {predicted}')"
      ]
    }
  ],
  "metadata": {
    "anaconda-cloud": {},
    "kernelspec": {
      "display_name": "tensorflow",
      "language": "python",
      "name": "tensorflow"
    },
    "language_info": {
      "codemirror_mode": {
        "name": "ipython",
        "version": 3
      },
      "file_extension": ".py",
      "mimetype": "text/x-python",
      "name": "python",
      "nbconvert_exporter": "python",
      "pygments_lexer": "ipython3",
      "version": "3.6.8"
    },
    "nbpresent": {
      "slides": {
        "300ee14f-a043-486e-b274-7ff253907cd7": {
          "id": "300ee14f-a043-486e-b274-7ff253907cd7",
          "prev": "cb74e0bc-4513-4d13-b7f1-14c3078a7927",
          "regions": {
            "26dc3f39-a230-447c-af4c-f5e5b2fb7835": {
              "attrs": {
                "height": 0.8,
                "width": 0.8,
                "x": 0.1,
                "y": 0.1
              },
              "content": {
                "cell": "c58440a5-3f8f-4f37-9c79-6bf766209406",
                "part": "whole"
              },
              "id": "26dc3f39-a230-447c-af4c-f5e5b2fb7835"
            }
          }
        },
        "878aa53a-1444-4100-8f50-7a408191c579": {
          "id": "878aa53a-1444-4100-8f50-7a408191c579",
          "prev": null,
          "regions": {
            "a6c6843a-5ea6-4fbc-b890-3b4b8ae475b3": {
              "attrs": {
                "height": 0.8,
                "width": 0.8,
                "x": 0.1,
                "y": 0.1
              },
              "content": {
                "cell": "588ee1fa-64b5-453b-ade7-8e6b2515821c",
                "part": "whole"
              },
              "id": "a6c6843a-5ea6-4fbc-b890-3b4b8ae475b3"
            }
          }
        },
        "96ffe88e-7b50-43de-afdd-942e564f4e3e": {
          "id": "96ffe88e-7b50-43de-afdd-942e564f4e3e",
          "prev": "878aa53a-1444-4100-8f50-7a408191c579",
          "regions": {
            "b7e52e12-489a-468d-b10c-af2024fd2856": {
              "attrs": {
                "height": 0.8,
                "width": 0.8,
                "x": 0.1,
                "y": 0.1
              },
              "content": {
                "cell": "de829a92-1fb6-44ad-a2c6-fc1001e1f6e1",
                "part": "whole"
              },
              "id": "b7e52e12-489a-468d-b10c-af2024fd2856"
            }
          }
        },
        "cb74e0bc-4513-4d13-b7f1-14c3078a7927": {
          "id": "cb74e0bc-4513-4d13-b7f1-14c3078a7927",
          "prev": "96ffe88e-7b50-43de-afdd-942e564f4e3e",
          "regions": {
            "444878ee-68f3-4abb-acff-a7079b21e86d": {
              "attrs": {
                "height": 0.8,
                "width": 0.8,
                "x": 0.1,
                "y": 0.1
              },
              "content": {
                "cell": "25f3f538-1ee8-4d98-a6bb-14cbeb7a702d",
                "part": "whole"
              },
              "id": "444878ee-68f3-4abb-acff-a7079b21e86d"
            }
          }
        }
      },
      "themes": {}
    },
    "colab": {
      "name": "06_ConvolutionalNeuralNetwork-Hoda-Keras.ipynb",
      "provenance": []
    }
  },
  "nbformat": 4,
  "nbformat_minor": 0
}