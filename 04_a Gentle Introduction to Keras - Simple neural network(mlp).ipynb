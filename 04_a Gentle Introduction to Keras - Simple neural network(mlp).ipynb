{
  "cells": [
    {
      "cell_type": "markdown",
      "metadata": {
        "id": "du-bNx2mesWZ"
      },
      "source": [
        "# Keras - An introduction to artificial neural networks"
      ]
    },
    {
      "cell_type": "markdown",
      "source": [
        "## Downloading Requirements"
      ],
      "metadata": {
        "id": "ZgzLNMkLfESG"
      }
    },
    {
      "cell_type": "code",
      "source": [
        "!wget https://raw.githubusercontent.com/BKV15/SRU-deeplearning-workshop/master/dataset.py\n",
        "!wget https://github.com/BKV15/SRU-deeplearning-workshop/blob/master/dataset/Data_hoda_full.mat?raw=true -P dataset"
      ],
      "metadata": {
        "id": "g6OFYilcfIzu"
      },
      "execution_count": null,
      "outputs": []
    },
    {
      "cell_type": "markdown",
      "metadata": {
        "id": "5VOWRFEgesWd"
      },
      "source": [
        "## Importing Libraries"
      ]
    },
    {
      "cell_type": "code",
      "execution_count": 3,
      "metadata": {
        "nbpresent": {
          "id": "de829a92-1fb6-44ad-a2c6-fc1001e1f6e1"
        },
        "id": "W5dGOeXlesWe"
      },
      "outputs": [],
      "source": [
        "from tensorflow import keras\n",
        "from tensorflow.keras.models import Sequential\n",
        "from tensorflow.keras.layers import Dense,  Activation\n",
        "import numpy as np\n",
        "\n",
        "from dataset import load_hoda"
      ]
    },
    {
      "cell_type": "markdown",
      "metadata": {
        "id": "caqJSOkiesWh"
      },
      "source": [
        "## For Reproducibility"
      ]
    },
    {
      "cell_type": "code",
      "execution_count": 4,
      "metadata": {
        "id": "f27Sd90desWi"
      },
      "outputs": [],
      "source": [
        "np.random.seed(123)  "
      ]
    },
    {
      "cell_type": "markdown",
      "metadata": {
        "id": "xUPRCFxsesWi"
      },
      "source": [
        "## Loading hoda dataset"
      ]
    },
    {
      "cell_type": "code",
      "execution_count": 5,
      "metadata": {
        "id": "UQ9vTouLesWj"
      },
      "outputs": [],
      "source": [
        "x_train_original, y_train_original, x_test_original, y_test_original = load_hoda()"
      ]
    },
    {
      "cell_type": "markdown",
      "metadata": {
        "id": "k38-1O5desWj"
      },
      "source": [
        "## Preprocessing data for keras\n",
        "### One hot encoding labels\n"
      ]
    },
    {
      "cell_type": "code",
      "execution_count": 6,
      "metadata": {
        "id": "WGKQ89_sesWk"
      },
      "outputs": [],
      "source": [
        "def print_data_info(x_train, y_train, x_test, y_test):\n",
        "    #Check data Type\n",
        "    print (\"\\ttype(x_train): {}\".format(type(x_train)))\n",
        "    print (\"\\ttype(y_train): {}\".format(type(y_train)))\n",
        "\n",
        "    #check data Shape\n",
        "    print (\"\\tx_train.shape: {}\".format(np.shape(x_train)))\n",
        "    print (\"\\ty_train.shape: {}\".format(np.shape(y_train)))\n",
        "    print (\"\\tx_test.shape: {}\".format(np.shape(x_test)))\n",
        "    print (\"\\ty_test.shape: {}\".format(np.shape(y_test)))\n",
        "\n",
        "    #sample data\n",
        "    print (\"\\ty_train[0]: {}\".format(y_train[0]))"
      ]
    },
    {
      "cell_type": "code",
      "execution_count": 7,
      "metadata": {
        "id": "koXLhmAnesWl"
      },
      "outputs": [],
      "source": [
        "# Preprocess input data for Keras. \n",
        "x_train = np.array(x_train_original)\n",
        "y_train = keras.utils.to_categorical(y_train_original, num_classes=10)\n",
        "x_test = np.array(x_test_original)\n",
        "y_test = keras.utils.to_categorical(y_test_original, num_classes=10)"
      ]
    },
    {
      "cell_type": "code",
      "execution_count": 8,
      "metadata": {
        "id": "_9CA-6DKesWl",
        "outputId": "10bd5a7d-740b-4a57-b465-ebd5ac26a436",
        "colab": {
          "base_uri": "https://localhost:8080/"
        }
      },
      "outputs": [
        {
          "output_type": "stream",
          "name": "stdout",
          "text": [
            "Before Preprocessing:\n",
            "\ttype(x_train): <class 'list'>\n",
            "\ttype(y_train): <class 'numpy.ndarray'>\n",
            "\tx_train.shape: (1000, 25)\n",
            "\ty_train.shape: (1000,)\n",
            "\tx_test.shape: (200, 25)\n",
            "\ty_test.shape: (200,)\n",
            "\ty_train[0]: 6\n",
            "After Preprocessing:\n",
            "\ttype(x_train): <class 'numpy.ndarray'>\n",
            "\ttype(y_train): <class 'numpy.ndarray'>\n",
            "\tx_train.shape: (1000, 25)\n",
            "\ty_train.shape: (1000, 10)\n",
            "\tx_test.shape: (200, 25)\n",
            "\ty_test.shape: (200, 10)\n",
            "\ty_train[0]: [0. 0. 0. 0. 0. 0. 1. 0. 0. 0.]\n"
          ]
        }
      ],
      "source": [
        "print(\"Before Preprocessing:\")\n",
        "print_data_info(x_train_original, y_train_original, x_test_original, y_test_original)\n",
        "print(\"After Preprocessing:\")\n",
        "print_data_info(x_train, y_train, x_test, y_test)"
      ]
    },
    {
      "cell_type": "markdown",
      "metadata": {
        "id": "Qr8qTUVyesWm"
      },
      "source": [
        "## Scaling dataset for ann"
      ]
    },
    {
      "cell_type": "code",
      "execution_count": 9,
      "metadata": {
        "id": "F7C6zkoSesWm"
      },
      "outputs": [],
      "source": [
        "x_train = x_train.astype('float32')\n",
        "x_test = x_test.astype('float32')\n",
        "x_train /= 255\n",
        "x_test /= 255"
      ]
    },
    {
      "cell_type": "markdown",
      "metadata": {
        "id": "Aof7qApZesWm"
      },
      "source": [
        "## Model architecture"
      ]
    },
    {
      "cell_type": "code",
      "execution_count": 10,
      "metadata": {
        "id": "0iLfPFSgesWn"
      },
      "outputs": [],
      "source": [
        "model = Sequential()\n",
        "model.add(Dense(64, activation='relu', input_dim=25))\n",
        "model.add(Dense(10, activation='softmax'))"
      ]
    },
    {
      "cell_type": "code",
      "execution_count": 11,
      "metadata": {
        "id": "PfeAdPl0esWn",
        "outputId": "f30dfe5a-15b5-4d6b-8e0e-489fd985cee6",
        "colab": {
          "base_uri": "https://localhost:8080/"
        }
      },
      "outputs": [
        {
          "output_type": "stream",
          "name": "stdout",
          "text": [
            "Model: \"sequential\"\n",
            "_________________________________________________________________\n",
            " Layer (type)                Output Shape              Param #   \n",
            "=================================================================\n",
            " dense (Dense)               (None, 64)                1664      \n",
            "                                                                 \n",
            " dense_1 (Dense)             (None, 10)                650       \n",
            "                                                                 \n",
            "=================================================================\n",
            "Total params: 2,314\n",
            "Trainable params: 2,314\n",
            "Non-trainable params: 0\n",
            "_________________________________________________________________\n"
          ]
        }
      ],
      "source": [
        "model.summary()"
      ]
    },
    {
      "cell_type": "markdown",
      "metadata": {
        "id": "7drb91cUesWn"
      },
      "source": [
        "## Compile model\n"
      ]
    },
    {
      "cell_type": "code",
      "execution_count": 12,
      "metadata": {
        "id": "stPo2P9VesWo"
      },
      "outputs": [],
      "source": [
        "model.compile(loss='categorical_crossentropy',\n",
        "              optimizer='rmsprop',\n",
        "              metrics=['accuracy'])"
      ]
    },
    {
      "cell_type": "markdown",
      "metadata": {
        "id": "aIQS5ZlmesWo"
      },
      "source": [
        "## Training model with training dataset\n"
      ]
    },
    {
      "cell_type": "code",
      "execution_count": 13,
      "metadata": {
        "id": "xm1q_qbLesWo",
        "outputId": "7a8e1924-2470-4fe1-dcb7-8f1c05c09e88",
        "colab": {
          "base_uri": "https://localhost:8080/"
        }
      },
      "outputs": [
        {
          "output_type": "stream",
          "name": "stdout",
          "text": [
            "Epoch 1/30\n",
            "13/13 [==============================] - 2s 23ms/step - loss: 2.2765 - accuracy: 0.2000 - val_loss: 2.1623 - val_accuracy: 0.2800\n",
            "Epoch 2/30\n",
            "13/13 [==============================] - 0s 7ms/step - loss: 2.0422 - accuracy: 0.3738 - val_loss: 1.9663 - val_accuracy: 0.4650\n",
            "Epoch 3/30\n",
            "13/13 [==============================] - 0s 7ms/step - loss: 1.8673 - accuracy: 0.5288 - val_loss: 1.7907 - val_accuracy: 0.5650\n",
            "Epoch 4/30\n",
            "13/13 [==============================] - 0s 6ms/step - loss: 1.7063 - accuracy: 0.6037 - val_loss: 1.6354 - val_accuracy: 0.6550\n",
            "Epoch 5/30\n",
            "13/13 [==============================] - 0s 7ms/step - loss: 1.5559 - accuracy: 0.6650 - val_loss: 1.4900 - val_accuracy: 0.7100\n",
            "Epoch 6/30\n",
            "13/13 [==============================] - 0s 7ms/step - loss: 1.4135 - accuracy: 0.7188 - val_loss: 1.3526 - val_accuracy: 0.7250\n",
            "Epoch 7/30\n",
            "13/13 [==============================] - 0s 6ms/step - loss: 1.2790 - accuracy: 0.7625 - val_loss: 1.2303 - val_accuracy: 0.7550\n",
            "Epoch 8/30\n",
            "13/13 [==============================] - 0s 6ms/step - loss: 1.1564 - accuracy: 0.7875 - val_loss: 1.1101 - val_accuracy: 0.7650\n",
            "Epoch 9/30\n",
            "13/13 [==============================] - 0s 6ms/step - loss: 1.0445 - accuracy: 0.8138 - val_loss: 1.0067 - val_accuracy: 0.7800\n",
            "Epoch 10/30\n",
            "13/13 [==============================] - 0s 7ms/step - loss: 0.9482 - accuracy: 0.8225 - val_loss: 0.9217 - val_accuracy: 0.8000\n",
            "Epoch 11/30\n",
            "13/13 [==============================] - 0s 7ms/step - loss: 0.8647 - accuracy: 0.8288 - val_loss: 0.8463 - val_accuracy: 0.8100\n",
            "Epoch 12/30\n",
            "13/13 [==============================] - 0s 6ms/step - loss: 0.7912 - accuracy: 0.8438 - val_loss: 0.7785 - val_accuracy: 0.8200\n",
            "Epoch 13/30\n",
            "13/13 [==============================] - 0s 6ms/step - loss: 0.7258 - accuracy: 0.8413 - val_loss: 0.7236 - val_accuracy: 0.8100\n",
            "Epoch 14/30\n",
            "13/13 [==============================] - 0s 7ms/step - loss: 0.6707 - accuracy: 0.8512 - val_loss: 0.6769 - val_accuracy: 0.8250\n",
            "Epoch 15/30\n",
            "13/13 [==============================] - 0s 7ms/step - loss: 0.6238 - accuracy: 0.8612 - val_loss: 0.6339 - val_accuracy: 0.8450\n",
            "Epoch 16/30\n",
            "13/13 [==============================] - 0s 6ms/step - loss: 0.5828 - accuracy: 0.8687 - val_loss: 0.6010 - val_accuracy: 0.8500\n",
            "Epoch 17/30\n",
            "13/13 [==============================] - 0s 6ms/step - loss: 0.5501 - accuracy: 0.8637 - val_loss: 0.5711 - val_accuracy: 0.8500\n",
            "Epoch 18/30\n",
            "13/13 [==============================] - 0s 6ms/step - loss: 0.5199 - accuracy: 0.8750 - val_loss: 0.5461 - val_accuracy: 0.8550\n",
            "Epoch 19/30\n",
            "13/13 [==============================] - 0s 6ms/step - loss: 0.4932 - accuracy: 0.8737 - val_loss: 0.5228 - val_accuracy: 0.8650\n",
            "Epoch 20/30\n",
            "13/13 [==============================] - 0s 7ms/step - loss: 0.4700 - accuracy: 0.8750 - val_loss: 0.5052 - val_accuracy: 0.8650\n",
            "Epoch 21/30\n",
            "13/13 [==============================] - 0s 6ms/step - loss: 0.4503 - accuracy: 0.8825 - val_loss: 0.4904 - val_accuracy: 0.8650\n",
            "Epoch 22/30\n",
            "13/13 [==============================] - 0s 6ms/step - loss: 0.4293 - accuracy: 0.8875 - val_loss: 0.4778 - val_accuracy: 0.8700\n",
            "Epoch 23/30\n",
            "13/13 [==============================] - 0s 7ms/step - loss: 0.4138 - accuracy: 0.8863 - val_loss: 0.4656 - val_accuracy: 0.8750\n",
            "Epoch 24/30\n",
            "13/13 [==============================] - 0s 7ms/step - loss: 0.3996 - accuracy: 0.8950 - val_loss: 0.4484 - val_accuracy: 0.8700\n",
            "Epoch 25/30\n",
            "13/13 [==============================] - 0s 8ms/step - loss: 0.3852 - accuracy: 0.8900 - val_loss: 0.4385 - val_accuracy: 0.8700\n",
            "Epoch 26/30\n",
            "13/13 [==============================] - 0s 6ms/step - loss: 0.3723 - accuracy: 0.8950 - val_loss: 0.4311 - val_accuracy: 0.8750\n",
            "Epoch 27/30\n",
            "13/13 [==============================] - 0s 7ms/step - loss: 0.3609 - accuracy: 0.9013 - val_loss: 0.4183 - val_accuracy: 0.8800\n",
            "Epoch 28/30\n",
            "13/13 [==============================] - 0s 6ms/step - loss: 0.3508 - accuracy: 0.9013 - val_loss: 0.4115 - val_accuracy: 0.8750\n",
            "Epoch 29/30\n",
            "13/13 [==============================] - 0s 7ms/step - loss: 0.3407 - accuracy: 0.8975 - val_loss: 0.4070 - val_accuracy: 0.8850\n",
            "Epoch 30/30\n",
            "13/13 [==============================] - 0s 7ms/step - loss: 0.3309 - accuracy: 0.9075 - val_loss: 0.3972 - val_accuracy: 0.8950\n"
          ]
        },
        {
          "output_type": "execute_result",
          "data": {
            "text/plain": [
              "<keras.callbacks.History at 0x7f7e5a5c9750>"
            ]
          },
          "metadata": {},
          "execution_count": 13
        }
      ],
      "source": [
        "model.fit(x_train, y_train,\n",
        "          epochs=30,\n",
        "          batch_size=64, validation_split=0.2)"
      ]
    },
    {
      "cell_type": "markdown",
      "metadata": {
        "id": "YZ5X-vuresWp"
      },
      "source": [
        "## Evaluating model with test dataset"
      ]
    },
    {
      "cell_type": "code",
      "execution_count": 15,
      "metadata": {
        "id": "AVHMbd3tesWp",
        "outputId": "a5de6aab-20be-4cc3-a69f-181811be4bcf",
        "colab": {
          "base_uri": "https://localhost:8080/"
        }
      },
      "outputs": [
        {
          "output_type": "stream",
          "name": "stdout",
          "text": [
            "7/7 [==============================] - 0s 3ms/step - loss: 0.3539 - accuracy: 0.9100\n",
            "Testing loss : 0.35, acc : 0.91\n"
          ]
        }
      ],
      "source": [
        "loss, acc = model.evaluate(x_test, y_test)\n",
        "print(f'Testing loss : {loss:.2f}, acc : {acc:.2f}')"
      ]
    },
    {
      "cell_type": "markdown",
      "metadata": {
        "id": "b_wSZ0RmesWp"
      },
      "source": [
        "## Predicting test dataset\n"
      ]
    },
    {
      "cell_type": "code",
      "execution_count": 19,
      "metadata": {
        "id": "VxN3HmyZesWq",
        "outputId": "4580e5e9-4047-44b1-b72d-a0a0f0e010ab",
        "colab": {
          "base_uri": "https://localhost:8080/"
        }
      },
      "outputs": [
        {
          "output_type": "stream",
          "name": "stdout",
          "text": [
            "predicted:\n",
            "[7 2 3 8 5 5 4 7 3 2 0 8 8 0 2 9 3 6 7 4 0 3 6 3 9 2 7 5 2 9 7 5 5 8 9 2 5\n",
            " 1 4 8 8 4 2 2 1 2 7 9 0 3 7 5 7 5 7 9 8 2 9 8 8 6 6 6 7 6 2 4 2 4 4 5 9 1\n",
            " 8 4 0 5 6 2 4 3 2 7 7 7 7 1 8 1 7 8 7 7 8 9 6 2 3 1 0 2 9 6 3 5 5 0 0 9 6\n",
            " 7 9 3 9 9 8 7 9 2 5 2 5 5 9 6 9 2 0 3 7 9 5 2 9 0 4 1 8 2 2 3 0 2 9 3 8 2\n",
            " 7 0 9 9 0 7 6 2 4 0 9 3 7 0 7 1 9 4 7 3 4 1 5 6 7 9 1 3 5 3 5 7 4 1 3 3 1\n",
            " 1 4 3 8 9 6 7 7 2 3 0 1 4 9 5]\n",
            "True Label:\n",
            "[7 2 3 1 5 5 4 7 3 2 0 8 8 0 2 9 3 6 7 4 0 3 6 3 9 2 7 5 2 9 7 5 5 8 9 6 5\n",
            " 1 4 8 8 4 7 7 1 2 7 9 0 3 7 4 7 5 2 9 8 2 9 8 8 6 6 6 6 6 2 4 3 4 4 5 9 1\n",
            " 8 2 0 5 6 2 4 3 2 7 7 7 7 1 8 1 7 8 7 7 8 9 3 2 3 1 0 2 9 6 3 5 5 0 0 3 6\n",
            " 7 9 3 9 9 8 7 9 2 5 2 5 5 9 6 9 2 0 3 7 6 5 2 9 0 4 1 8 2 2 3 0 2 9 3 8 6\n",
            " 7 0 9 9 0 7 6 5 4 7 9 3 7 0 7 1 9 4 7 3 4 1 5 6 7 9 1 3 5 4 5 7 4 1 3 3 1\n",
            " 2 3 3 8 9 6 7 7 2 3 0 1 4 9 5]\n"
          ]
        }
      ],
      "source": [
        "# The predict_classes function outputs the highest probability class\n",
        "# according to the trained classifier for each input example.\n",
        "predicted_probablities = model.predict(x_test)\n",
        "predicted_classes = np.argmax(predicted_probablities,axis=1)\n",
        "print(\"predicted:\")\n",
        "print(predicted_classes)\n",
        "print(\"True Label:\")\n",
        "print(y_test_original)"
      ]
    },
    {
      "cell_type": "code",
      "source": [
        "from sklearn.metrics import confusion_matrix , accuracy_score"
      ],
      "metadata": {
        "id": "4RU7C6XDknyJ"
      },
      "execution_count": 20,
      "outputs": []
    },
    {
      "cell_type": "code",
      "source": [
        "accuracy_score(y_test_original , predicted_classes)"
      ],
      "metadata": {
        "id": "7zeWg85FkwdD",
        "outputId": "ed5085db-45fa-486d-e126-bade6687a8e6",
        "colab": {
          "base_uri": "https://localhost:8080/"
        }
      },
      "execution_count": 21,
      "outputs": [
        {
          "output_type": "execute_result",
          "data": {
            "text/plain": [
              "0.91"
            ]
          },
          "metadata": {},
          "execution_count": 21
        }
      ]
    },
    {
      "cell_type": "code",
      "source": [
        "confusion_matrix(y_test_original , predicted_classes)"
      ],
      "metadata": {
        "id": "jqfDl-nZk3vx",
        "outputId": "edfc83e2-9f2b-49e3-8eef-93f510c6e48f",
        "colab": {
          "base_uri": "https://localhost:8080/"
        }
      },
      "execution_count": 22,
      "outputs": [
        {
          "output_type": "execute_result",
          "data": {
            "text/plain": [
              "array([[15,  0,  0,  0,  0,  0,  0,  0,  0,  0],\n",
              "       [ 0, 13,  0,  0,  0,  0,  0,  0,  1,  0],\n",
              "       [ 0,  1, 20,  0,  1,  0,  0,  1,  0,  0],\n",
              "       [ 0,  0,  1, 20,  1,  0,  1,  0,  0,  1],\n",
              "       [ 0,  0,  0,  1, 14,  1,  0,  0,  0,  0],\n",
              "       [ 0,  0,  1,  0,  0, 19,  0,  0,  0,  0],\n",
              "       [ 0,  0,  2,  0,  0,  0, 13,  1,  0,  1],\n",
              "       [ 1,  0,  2,  0,  0,  0,  0, 27,  0,  0],\n",
              "       [ 0,  0,  0,  0,  0,  0,  0,  0, 16,  0],\n",
              "       [ 0,  0,  0,  0,  0,  0,  0,  0,  0, 25]])"
            ]
          },
          "metadata": {},
          "execution_count": 22
        }
      ]
    },
    {
      "cell_type": "markdown",
      "metadata": {
        "id": "XdP1LfR0esWq"
      },
      "source": [
        "## Complete source code\n"
      ]
    },
    {
      "cell_type": "code",
      "execution_count": null,
      "metadata": {
        "id": "qMaWA9-DesWq"
      },
      "outputs": [],
      "source": [
        "# 1. Import libraries and modules\n",
        "import keras\n",
        "from keras.models import Sequential\n",
        "from keras.layers import Dense, Dropout, Activation\n",
        "import numpy as np\n",
        "from dataset import load_hoda\n",
        "\n",
        "np.random.seed(123)  # for reproducibility\n",
        "\n",
        "# 2. Load pre-shuffled HODA data into train and test sets\n",
        "x_train_original, y_train_original, x_test_original, y_test_original = load_hoda()\n",
        "\n",
        "# 3. Preprocess input data\n",
        "''' 3.1: input data in numpy array format'''\n",
        "x_train = np.array(x_train_original)\n",
        "x_test = np.array(x_test_original)\n",
        "'''3.2 normalize our data values to the range [0, 1]'''\n",
        "x_train = x_train.astype('float32')\n",
        "x_test = x_test.astype('float32')\n",
        "x_train /= 255\n",
        "x_test /= 255\n",
        "\n",
        "# 4. Preprocess class labels\n",
        "y_train = keras.utils.to_categorical(y_train_original, num_classes=10)\n",
        "y_test = keras.utils.to_categorical(y_test_original, num_classes=10)\n",
        "\n",
        "# 5. Define model architecture\n",
        "model = Sequential()\n",
        "model.add(Dense(64, activation='relu', input_dim=25))\n",
        "model.add(Dense(10, activation='softmax'))\n",
        "\n",
        "# 6. Compile model\n",
        "model.compile(loss='categorical_crossentropy',\n",
        "              optimizer='rmsprop',\n",
        "              metrics=['accuracy'])\n",
        "\n",
        "# 7. Fit model on training data\n",
        "model.fit(x_train, y_train,\n",
        "          epochs=30,\n",
        "          batch_size=64)\n",
        "\n",
        "# 8. Evaluate model on test data\n",
        "loss, acc = model.evaluate(x_test, y_test)\n",
        "print('\\nTesting loss: %.2f, acc: %.2f%%'%(loss, acc))"
      ]
    }
  ],
  "metadata": {
    "anaconda-cloud": {},
    "kernelspec": {
      "display_name": "tensorflow",
      "language": "python",
      "name": "tensorflow"
    },
    "language_info": {
      "codemirror_mode": {
        "name": "ipython",
        "version": 3
      },
      "file_extension": ".py",
      "mimetype": "text/x-python",
      "name": "python",
      "nbconvert_exporter": "python",
      "pygments_lexer": "ipython3",
      "version": "3.6.8"
    },
    "nbpresent": {
      "slides": {
        "300ee14f-a043-486e-b274-7ff253907cd7": {
          "id": "300ee14f-a043-486e-b274-7ff253907cd7",
          "prev": "cb74e0bc-4513-4d13-b7f1-14c3078a7927",
          "regions": {
            "26dc3f39-a230-447c-af4c-f5e5b2fb7835": {
              "attrs": {
                "height": 0.8,
                "width": 0.8,
                "x": 0.1,
                "y": 0.1
              },
              "content": {
                "cell": "c58440a5-3f8f-4f37-9c79-6bf766209406",
                "part": "whole"
              },
              "id": "26dc3f39-a230-447c-af4c-f5e5b2fb7835"
            }
          }
        },
        "878aa53a-1444-4100-8f50-7a408191c579": {
          "id": "878aa53a-1444-4100-8f50-7a408191c579",
          "prev": null,
          "regions": {
            "a6c6843a-5ea6-4fbc-b890-3b4b8ae475b3": {
              "attrs": {
                "height": 0.8,
                "width": 0.8,
                "x": 0.1,
                "y": 0.1
              },
              "content": {
                "cell": "588ee1fa-64b5-453b-ade7-8e6b2515821c",
                "part": "whole"
              },
              "id": "a6c6843a-5ea6-4fbc-b890-3b4b8ae475b3"
            }
          }
        },
        "96ffe88e-7b50-43de-afdd-942e564f4e3e": {
          "id": "96ffe88e-7b50-43de-afdd-942e564f4e3e",
          "prev": "878aa53a-1444-4100-8f50-7a408191c579",
          "regions": {
            "b7e52e12-489a-468d-b10c-af2024fd2856": {
              "attrs": {
                "height": 0.8,
                "width": 0.8,
                "x": 0.1,
                "y": 0.1
              },
              "content": {
                "cell": "de829a92-1fb6-44ad-a2c6-fc1001e1f6e1",
                "part": "whole"
              },
              "id": "b7e52e12-489a-468d-b10c-af2024fd2856"
            }
          }
        },
        "cb74e0bc-4513-4d13-b7f1-14c3078a7927": {
          "id": "cb74e0bc-4513-4d13-b7f1-14c3078a7927",
          "prev": "96ffe88e-7b50-43de-afdd-942e564f4e3e",
          "regions": {
            "444878ee-68f3-4abb-acff-a7079b21e86d": {
              "attrs": {
                "height": 0.8,
                "width": 0.8,
                "x": 0.1,
                "y": 0.1
              },
              "content": {
                "cell": "25f3f538-1ee8-4d98-a6bb-14cbeb7a702d",
                "part": "whole"
              },
              "id": "444878ee-68f3-4abb-acff-a7079b21e86d"
            }
          }
        }
      },
      "themes": {}
    },
    "colab": {
      "name": "04_a Gentle Introduction to Keras - Simple neural network(mlp).ipynb",
      "provenance": []
    },
    "accelerator": "GPU"
  },
  "nbformat": 4,
  "nbformat_minor": 0
}